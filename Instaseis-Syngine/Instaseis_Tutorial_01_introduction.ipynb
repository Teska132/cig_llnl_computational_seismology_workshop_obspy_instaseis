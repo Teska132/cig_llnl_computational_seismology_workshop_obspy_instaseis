{
 "cells": [
  {
   "cell_type": "markdown",
   "metadata": {},
   "source": [
    "<div style='background-image: url(\"../share/Aerial_view_LLNL.jpg\") ; padding: 0px ; background-size: cover ; border-radius: 15px ; height: 250px; background-position: 0% 80%'>\n",
    "    <div style=\"float: right ; margin: 50px ; padding: 20px ; background: rgba(255 , 255 , 255 , 0.8) ; width: 50% ; height: 150px\">\n",
    "        <div style=\"position: relative ; top: 50% ; transform: translatey(-50%)\">\n",
    "            <div style=\"font-size: xx-large ; font-weight: 900 ; color: rgba(0 , 0 , 0 , 0.9) ; line-height: 100%\">Instaseis/Syngine Tutorial</div>\n",
    "            <div style=\"font-size: large ; padding-top: 20px ; color: rgba(0 , 0 , 0 , 0.7)\">Part 1: Introduction</div>\n",
    "        </div>\n",
    "    </div>\n",
    "</div>"
   ]
  },
  {
   "cell_type": "markdown",
   "metadata": {},
   "source": [
    "### **2017 CIG-LLNL Computational Seismology Workshop**\n",
    "\n",
    "Seismo-Live: http://seismo-live.org\n",
    "\n",
    "##### Authors:\n",
    "* Martin van Driel ([@martinvandriel](https://github.com/martinvandriel))\n",
    "* Lion Krischer ([@krischer](https://github.com/krischer))\n",
    "---"
   ]
  },
  {
   "cell_type": "markdown",
   "metadata": {},
   "source": [
    "<img style=\"width:50%\" src=\"images/logo.png\">"
   ]
  },
  {
   "cell_type": "markdown",
   "metadata": {},
   "source": [
    "**Goal:** calculate seismograms on a 1D background model with [Instaseis](http://www.instaseis.net), assuming the \n",
    "Green's function database computed with [AxiSEM](http://www.axisem.info) is provided."
   ]
  },
  {
   "cell_type": "markdown",
   "metadata": {},
   "source": [
    "### Overview:\n",
    "\n",
    "**Introduction:**\n",
    "\n",
    "* Part 1: Very basic introduction to the API, calculate the first seismogram.\n",
    "\n",
    "**Basic Tasks:**\n",
    "\n",
    "* Part 2: Some examples of interaction with obspy, calculate synthetics for a set of events and stations\n",
    "\n",
    "**Advanced Tasks:**\n",
    "\n",
    "* Part 3: Plot record section\n",
    "* Part 4: Finite Source, compare to point source solution"
   ]
  },
  {
   "cell_type": "markdown",
   "metadata": {},
   "source": [
    "-----\n",
    "\n",
    "Basic lines to set up the notebook and some paths."
   ]
  },
  {
   "cell_type": "code",
   "execution_count": 1,
   "metadata": {},
   "outputs": [],
   "source": [
    "%matplotlib inline\n",
    "from __future__ import print_function\n",
    "import matplotlib.pyplot as plt\n",
    "import numpy as np\n",
    "import os\n",
    "import obspy\n",
    "plt.style.use('ggplot')\n",
    "plt.rcParams['figure.figsize'] = (10, 8)"
   ]
  },
  {
   "cell_type": "markdown",
   "metadata": {},
   "source": [
    "-----"
   ]
  },
  {
   "cell_type": "markdown",
   "metadata": {},
   "source": [
    "## Basic Instaseis API Introduction\n",
    "\n",
    "Please also have a look at our webpage - http://www.instaseis.net/ - where everything is documented extensively.\n",
    "\n",
    "### Opening a Database\n",
    "\n",
    "To get going you have to import the package `instaseis`."
   ]
  },
  {
   "cell_type": "code",
   "execution_count": 2,
   "metadata": {},
   "outputs": [],
   "source": [
    "import instaseis"
   ]
  },
  {
   "cell_type": "markdown",
   "metadata": {},
   "source": [
    "An Instaseis database must be opened before it can be used. These can be either a local files computed with AxiSEM, or even more easily a remote database hosted by IRIS (http://ds.iris.edu/ds/products/syngine/)."
   ]
  },
  {
   "cell_type": "code",
   "execution_count": 3,
   "metadata": {},
   "outputs": [],
   "source": [
    "db = instaseis.open_db(\"syngine://prem_a_10s\")"
   ]
  },
  {
   "cell_type": "markdown",
   "metadata": {},
   "source": [
    "Some basic information about the loaded database can be reviewed by just printing it."
   ]
  },
  {
   "cell_type": "code",
   "execution_count": 4,
   "metadata": {},
   "outputs": [
    {
     "name": "stdout",
     "output_type": "stream",
     "text": [
      "SyngineInstaseisDB reciprocal Green's function Database (v8) generated with these parameters:\n",
      "Syngine model name:      'prem_a_10s'\n",
      "Syngine service version:  1.0.1\n",
      "\tcomponents           : vertical and horizontal\n",
      "\tvelocity model       : prem_ani\n",
      "\tattenuation          : True\n",
      "\tdominant period      : 10.000 s\n",
      "\tdump type            : displ_only\n",
      "\texcitation type      : dipole\n",
      "\ttime step            : 2.441 s\n",
      "\tsampling rate        : 0.410 Hz\n",
      "\tnumber of samples    : 7376\n",
      "\tseismogram length    : 17999.6 s\n",
      "\tsource time function : gauss_0\n",
      "\tsource shift         : 17.084 s\n",
      "\tspatial order        : 4\n",
      "\tmin/max radius       : 5671.0 - 6371.0 km\n",
      "\tPlanet radius        : 6371.0 km\n",
      "\tmin/max distance     : 0.0 - 180.0 deg\n",
      "\ttime stepping scheme : symplec4\n",
      "\tcompiler/user        : gfortran 5.2.0 by productext on dpstage\n",
      "\tdirectory/url        : http://service.iris.edu/irisws/syngine/1\n",
      "\tsize of netCDF files : 69.4 GB\n",
      "\tgenerated by AxiSEM version v1.2-31-g69d4-dirty at 2015-11-12T09:36:02.000000Z\n"
     ]
    }
   ],
   "source": [
    "print(db)"
   ]
  },
  {
   "cell_type": "markdown",
   "metadata": {},
   "source": [
    "From this you can already glance a couple of aspects of the database used for this tutorial:\n",
    "\n",
    "* uses anisotropic prem as its 1D model\n",
    "* is accurate for periods down to 10 seconds\n",
    "* includes vertical and horizontal components\n",
    "* sources can have depths ranging from 0 to 700 km\n",
    "* five hour long seismograms\n",
    "\n",
    "To avoid delays that become relevant when requesting very many seismograms, IRIS also offers the databases for download."
   ]
  },
  {
   "cell_type": "markdown",
   "metadata": {},
   "source": [
    "### Receivers and Sources\n",
    "\n",
    "Instaseis calculates seismograms for any source and receiver pair. A receiver has coordinates and optionally network and station codes. Using a reciprocal database, all receivers are assumed to be at the same depth, i.e. usually at the Earth surface."
   ]
  },
  {
   "cell_type": "code",
   "execution_count": 5,
   "metadata": {},
   "outputs": [
    {
     "name": "stdout",
     "output_type": "stream",
     "text": [
      "Instaseis Receiver:\n",
      "\tlongitude :   10.6 deg\n",
      "\tlatitude  :   44.1 deg\n",
      "\tnetwork   : IV\n",
      "\tstation   : BDI\n",
      "\tlocation  : \n",
      "\n"
     ]
    }
   ],
   "source": [
    "rec = instaseis.Receiver(latitude=44.06238, longitude=10.59698,\n",
    "                         network=\"IV\", station=\"BDI\")\n",
    "print(rec)"
   ]
  },
  {
   "cell_type": "markdown",
   "metadata": {},
   "source": [
    "Sources are naturally a bit more complex and Instaseis offers a variety of ways to define them. A straightforward way for earthquakes is to pass coordinates, moment as well as strike, dip and rake."
   ]
  },
  {
   "cell_type": "code",
   "execution_count": 6,
   "metadata": {},
   "outputs": [
    {
     "name": "stdout",
     "output_type": "stream",
     "text": [
      "Instaseis Source:\n",
      "\torigin time      : 1970-01-01T00:00:00.000000Z\n",
      "\tLongitude        :   85.4 deg\n",
      "\tLatitude         :   27.8 deg\n",
      "\tDepth            : 1.2e+01 km\n",
      "\tMoment Magnitude :   8.00\n",
      "\tScalar Moment    :   1.00e+21 Nm\n",
      "\tMrr              :   8.29e+20 Nm\n",
      "\tMtt              :  -2.33e+20 Nm\n",
      "\tMpp              :  -5.96e+20 Nm\n",
      "\tMrt              :   2.96e+20 Nm\n",
      "\tMrp              :   4.74e+20 Nm\n",
      "\tMtp              :  -3.73e+20 Nm\n",
      "\n"
     ]
    }
   ],
   "source": [
    "src = instaseis.Source.from_strike_dip_rake(\n",
    "    latitude=27.77, longitude=85.37, depth_in_m=12000.0,\n",
    "    M0=1e+21, strike=32., dip=62., rake=90.)\n",
    "print(src)"
   ]
  },
  {
   "cell_type": "markdown",
   "metadata": {},
   "source": [
    "Note that origin time was not provided and hence defaults to 1970.A non double-couple soure can directly be specified in terms of its moment tensor (note that instaseis uses SI units, i.e. NM, while GCMT uses dyn cm)."
   ]
  },
  {
   "cell_type": "code",
   "execution_count": 7,
   "metadata": {},
   "outputs": [
    {
     "name": "stdout",
     "output_type": "stream",
     "text": [
      "Instaseis Source:\n",
      "\torigin time      : 1970-01-01T00:00:00.000000Z\n",
      "\tLongitude        :   85.4 deg\n",
      "\tLatitude         :   27.8 deg\n",
      "\tDepth            : 1.2e+01 km\n",
      "\tMoment Magnitude :   8.00\n",
      "\tScalar Moment    :   1.00e+21 Nm\n",
      "\tMrr              :   8.29e+20 Nm\n",
      "\tMtt              :  -2.33e+20 Nm\n",
      "\tMpp              :  -5.96e+20 Nm\n",
      "\tMrt              :   2.96e+20 Nm\n",
      "\tMrp              :   4.74e+20 Nm\n",
      "\tMtp              :  -3.73e+20 Nm\n",
      "\n"
     ]
    }
   ],
   "source": [
    "src = instaseis.Source(\n",
    "    latitude=27.77, longitude=85.37, depth_in_m=12000.0,\n",
    "    m_rr=8.29e+20, m_tt=-2.33e+20, m_pp=-5.96e+20,\n",
    "    m_rt=2.96e+20, m_rp=4.74e+20, m_tp=-3.73e+20)\n",
    "print(src)"
   ]
  },
  {
   "cell_type": "markdown",
   "metadata": {},
   "source": [
    "**Sidenode:** The moment tensor can be visualized using the Beachball function from obspy.imaging:"
   ]
  },
  {
   "cell_type": "code",
   "execution_count": 8,
   "metadata": {
    "scrolled": true
   },
   "outputs": [
    {
     "data": {
      "image/png": "[encoded data removed]",
      "text/plain": [
       "<matplotlib.figure.Figure at 0x7f59fff90dd0>"
      ]
     },
     "metadata": {},
     "output_type": "display_data"
    }
   ],
   "source": [
    "from obspy.imaging.beachball import beachball\n",
    "\n",
    "mt = src.tensor / src.M0 # normalize the tensor to avoid problems in the plotting\n",
    "beachball(mt, size=200, linewidth=2, facecolor='b');"
   ]
  },
  {
   "cell_type": "markdown",
   "metadata": {},
   "source": [
    "Now we are ready to extract synthetic seismograms from the database. The return type is an [obspy stream object](https://docs.obspy.org/packages/autogen/obspy.core.stream.Stream.html), which can directly be plotted:"
   ]
  },
  {
   "cell_type": "code",
   "execution_count": 9,
   "metadata": {},
   "outputs": [
    {
     "name": "stdout",
     "output_type": "stream",
     "text": [
      "5 Trace(s) in Stream:\n",
      "IV.BDI..LXZ | 1970-01-01T00:00:00.000000Z - 1970-01-01T04:59:42.561567Z | 0.4 Hz, 7369 samples\n",
      "IV.BDI..LXN | 1970-01-01T00:00:00.000000Z - 1970-01-01T04:59:42.561567Z | 0.4 Hz, 7369 samples\n",
      "IV.BDI..LXE | 1970-01-01T00:00:00.000000Z - 1970-01-01T04:59:42.561567Z | 0.4 Hz, 7369 samples\n",
      "IV.BDI..LXR | 1970-01-01T00:00:00.000000Z - 1970-01-01T04:59:42.561567Z | 0.4 Hz, 7369 samples\n",
      "IV.BDI..LXT | 1970-01-01T00:00:00.000000Z - 1970-01-01T04:59:42.561567Z | 0.4 Hz, 7369 samples\n"
     ]
    },
    {
     "data": {
      "image/png": "[encoded data removed]",
      "text/plain": [
       "<matplotlib.figure.Figure at 0x7f5a00250690>"
      ]
     },
     "metadata": {},
     "output_type": "display_data"
    }
   ],
   "source": [
    "st = db.get_seismograms(source=src, receiver=rec, components='ZNERT')\n",
    "print(st)\n",
    "st.plot();"
   ]
  },
  {
   "cell_type": "markdown",
   "metadata": {},
   "source": [
    "**Done** This is all you need for a basic usage of Instaseis!"
   ]
  }
 ],
 "metadata": {
  "kernelspec": {
   "display_name": "Python 3",
   "language": "python",
   "name": "python3"
  },
  "language_info": {
   "codemirror_mode": {
    "name": "ipython",
    "version": 3
   },
   "file_extension": ".py",
   "mimetype": "text/x-python",
   "name": "python",
   "nbconvert_exporter": "python",
   "pygments_lexer": "ipython3",
   "version": "3.6.2"
  }
 },
 "nbformat": 4,
 "nbformat_minor": 1
}
