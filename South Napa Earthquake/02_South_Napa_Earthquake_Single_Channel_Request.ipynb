{
 "cells": [
  {
   "cell_type": "markdown",
   "metadata": {},
   "source": [
    "<div style='background-image: url(\"../share/Aerial_view_LLNL.jpg\") ; padding: 0px ; background-size: cover ; border-radius: 15px ; height: 250px; background-position: 0% 80%'>\n",
    "    <div style=\"float: right ; margin: 50px ; padding: 20px ; background: rgba(255 , 255 , 255 , 0.8) ; width: 50% ; height: 150px\">\n",
    "        <div style=\"position: relative ; top: 50% ; transform: translatey(-50%)\">\n",
    "            <div style=\"font-size: xx-large ; font-weight: 900 ; color: rgba(0 , 0 , 0 , 0.9) ; line-height: 100%\">2014 South Napa Earthquake</div>\n",
    "            <div style=\"font-size: large ; padding-top: 20px ; color: rgba(0 , 0 , 0 , 0.7)\">Basic Waveform Request</div>\n",
    "        </div>\n",
    "    </div>\n",
    "</div>"
   ]
  },
  {
   "cell_type": "markdown",
   "metadata": {},
   "source": [
    "### **2017 CIG-LLNL Computational Seismology Workshop**\n",
    "\n",
    "\n",
    "##### Authors:\n",
    "* Artie Rogers\n",
    "* Lion Krischer ([@krischer](https://github.com/krischer))\n",
    "---"
   ]
  },
  {
   "cell_type": "markdown",
   "metadata": {},
   "source": [
    "2) Basic waveform request for a single event and a single network-channel type pair, eg. BK.BH for network = BK (Berkeley Digital Seismic Network, Northern California broadband stations) and channel = BH?."
   ]
  },
  {
   "cell_type": "code",
   "execution_count": null,
   "metadata": {
    "collapsed": true
   },
   "outputs": [],
   "source": [
    "%matplotlib inline\n",
    "from __future__ import print_function\n",
    "import matplotlib.pyplot as plt\n",
    "plt.style.use('ggplot')\n",
    "plt.rcParams['figure.figsize'] = 12, 8"
   ]
  },
  {
   "cell_type": "code",
   "execution_count": 8,
   "metadata": {
    "collapsed": true
   },
   "outputs": [],
   "source": [
    "import os\n",
    "from obspy.clients.fdsn import Client\n",
    "from obspy.clients.fdsn.mass_downloader import CircularDomain, Restrictions, MassDownloader"
   ]
  },
  {
   "cell_type": "markdown",
   "metadata": {},
   "source": [
    "Set parameters, comment/uncomment netchan for different network-channel combinations"
   ]
  },
  {
   "cell_type": "code",
   "execution_count": 3,
   "metadata": {
    "collapsed": true
   },
   "outputs": [],
   "source": [
    "# Set eventid here\n",
    "event_id = 72282711\n",
    "\n",
    "netchan = 'BK.BH'\n",
    "#netchan = 'NC.HN'\n",
    "#netchan = 'NP.HN'\n",
    "#netchan = 'CE.HN'\n",
    "\n",
    "maxradius = 0.5\n",
    "tbefore = 10.\n",
    "tafter = 60.\n",
    "data_center = 'NCEDC'"
   ]
  },
  {
   "cell_type": "code",
   "execution_count": 4,
   "metadata": {},
   "outputs": [
    {
     "name": "stdout",
     "output_type": "stream",
     "text": [
      "netchan:  BK.BH  net:  BK  chan:  BH  channels:  ['BH[ZNE]']\n",
      "make directory 72282711\n"
     ]
    }
   ],
   "source": [
    "net = netchan.split('.')[0]\n",
    "chan = netchan.split('.')[1]\n",
    "channels = [chan+'[ZNE]']\n",
    "print ('netchan: ', netchan, ' net: ', net, ' chan: ', chan, ' channels: ', channels)\n",
    "\n",
    "# Create directory for this event, if it does not exist\n",
    "event_dir = str(event_id)\n",
    "if path.exists(event_dir)==False:\n",
    "    print('make directory '+event_dir)\n",
    "    makedirs(event_dir)\n",
    "    raw_wf_data_dir = event_dir+'/RAW/'\n",
    "    makedirs(raw_wf_data_dir)\n",
    "    sta_metadata_dir = event_dir+'/_station_xml/'\n",
    "    makedirs(sta_metadata_dir)\n",
    "else:\n",
    "    print('directory exists')\n"
   ]
  },
  {
   "cell_type": "markdown",
   "metadata": {},
   "source": [
    "Set client and run query for event data"
   ]
  },
  {
   "cell_type": "code",
   "execution_count": 5,
   "metadata": {},
   "outputs": [
    {
     "name": "stdout",
     "output_type": "stream",
     "text": [
      "... catalogue saved to 72282711.QUAKEML\n",
      "origin_time:  2014-08-24T10:20:44.070000Z lat, lon:  38.2151667 -122.3123333\n"
     ]
    }
   ],
   "source": [
    "client = Client(data_center)\n",
    "\n",
    "# Query client for this particular event_id, returns catalog \n",
    "catalog = client.get_events(eventid=event_id)\n",
    "format='QUAKEML'\n",
    "catalog.write(event_dir+'/'+str(event_id)+'.'+format, format=format)\n",
    "print ('... catalogue saved to '+str(event_id)+'.'+format)\n",
    "# Create event origin from the 0-th origin in the catalog\n",
    "ev = catalog[0]\n",
    "origin_time = ev.origins[0]['time']\n",
    "evlon = ev.origins[0]['longitude']\n",
    "evlat = ev.origins[0]['latitude']\n",
    "print('origin_time: ', origin_time, 'lat, lon: ', str(evlat), str(evlon) )"
   ]
  },
  {
   "cell_type": "markdown",
   "metadata": {},
   "source": [
    "Run query for waveforms data for this event, network and channel type"
   ]
  },
  {
   "cell_type": "code",
   "execution_count": 7,
   "metadata": {},
   "outputs": [
    {
     "name": "stderr",
     "output_type": "stream",
     "text": [
      "[2017-06-04 22:48:09,626] - obspy.clients.fdsn.mass_downloader - INFO: Initializing FDSN client(s) for NCEDC.\n",
      "[2017-06-04 22:48:09,631] - obspy.clients.fdsn.mass_downloader - INFO: Successfully initialized 1 client(s): NCEDC.\n",
      "[2017-06-04 22:48:09,631] - obspy.clients.fdsn.mass_downloader - INFO: Total acquired or preexisting stations: 0\n",
      "[2017-06-04 22:48:09,632] - obspy.clients.fdsn.mass_downloader - INFO: Client 'NCEDC' - Requesting unreliable availability.\n",
      "[2017-06-04 22:48:13,429] - obspy.clients.fdsn.mass_downloader - INFO: Client 'NCEDC' - Successfully requested availability (3.80 seconds)\n",
      "[2017-06-04 22:48:13,469] - obspy.clients.fdsn.mass_downloader - INFO: Client 'NCEDC' - Found 8 stations (24 channels).\n",
      "[2017-06-04 22:48:13,472] - obspy.clients.fdsn.mass_downloader - INFO: Client 'NCEDC' - Will attempt to download data from 8 stations.\n",
      "[2017-06-04 22:48:13,473] - obspy.clients.fdsn.mass_downloader - INFO: Client 'NCEDC' - Status for 24 time intervals/channels before downloading: NEEDS_DOWNLOADING\n",
      "[2017-06-04 22:48:19,034] - obspy.clients.fdsn.mass_downloader - INFO: Client 'NCEDC' - Successfully downloaded 24 channels (of 24)\n",
      "[2017-06-04 22:48:19,034] - obspy.clients.fdsn.mass_downloader - INFO: Client 'NCEDC' - Launching basic QC checks...\n",
      "[2017-06-04 22:48:19,119] - obspy.clients.fdsn.mass_downloader - INFO: File '72282711/RAW/BK.CVS.00.BHE__20140824T102034Z__20140824T102144Z.mseed' has only 34.48 seconds of data. 63.00 are required. File will be deleted.\n",
      "[2017-06-04 22:48:19,124] - obspy.clients.fdsn.mass_downloader - INFO: File '72282711/RAW/BK.CVS.00.BHN__20140824T102034Z__20140824T102144Z.mseed' has only 33.48 seconds of data. 63.00 are required. File will be deleted.\n",
      "[2017-06-04 22:48:19,130] - obspy.clients.fdsn.mass_downloader - INFO: File '72282711/RAW/BK.CVS.00.BHZ__20140824T102034Z__20140824T102144Z.mseed' has only 34.48 seconds of data. 63.00 are required. File will be deleted.\n",
      "[2017-06-04 22:48:19,144] - obspy.clients.fdsn.mass_downloader - INFO: Client 'NCEDC' - Downloaded 1.9 MB [355.38 KB/sec] of data, 0.1 MB of which were discarded afterwards.\n",
      "[2017-06-04 22:48:19,145] - obspy.clients.fdsn.mass_downloader - INFO: Client 'NCEDC' - Status for 3 time intervals/channels after downloading: DOWNLOAD_REJECTED\n",
      "[2017-06-04 22:48:19,145] - obspy.clients.fdsn.mass_downloader - INFO: Client 'NCEDC' - Status for 21 time intervals/channels after downloading: DOWNLOADED\n",
      "[2017-06-04 22:48:24,799] - obspy.clients.fdsn.mass_downloader - INFO: Client 'NCEDC' - Successfully downloaded '72282711/_station_xml/BK.BRIB.xml'.\n",
      "[2017-06-04 22:48:24,802] - obspy.clients.fdsn.mass_downloader - INFO: Client 'NCEDC' - Successfully downloaded '72282711/_station_xml/BK.BL67.xml'.\n",
      "[2017-06-04 22:48:24,804] - obspy.clients.fdsn.mass_downloader - INFO: Client 'NCEDC' - Successfully downloaded '72282711/_station_xml/BK.VAK.xml'.\n",
      "[2017-06-04 22:48:30,694] - obspy.clients.fdsn.mass_downloader - INFO: Client 'NCEDC' - Successfully downloaded '72282711/_station_xml/BK.MCCM.xml'.\n",
      "[2017-06-04 22:48:30,696] - obspy.clients.fdsn.mass_downloader - INFO: Client 'NCEDC' - Successfully downloaded '72282711/_station_xml/BK.BKS.xml'.\n",
      "[2017-06-04 22:48:30,727] - obspy.clients.fdsn.mass_downloader - INFO: Client 'NCEDC' - Successfully downloaded '72282711/_station_xml/BK.BRK.xml'.\n",
      "[2017-06-04 22:48:35,639] - obspy.clients.fdsn.mass_downloader - INFO: Client 'NCEDC' - Successfully downloaded '72282711/_station_xml/BK.BDM.xml'.\n",
      "[2017-06-04 22:48:35,649] - obspy.clients.fdsn.mass_downloader - INFO: Client 'NCEDC' - Downloaded 7 station files [0.1 MB] in 16.5 seconds [8.99 KB/sec].\n",
      "[2017-06-04 22:48:35,651] - obspy.clients.fdsn.mass_downloader - INFO: Deleting MiniSEED file '72282711/RAW/BK.BL67.00.BHE__20140824T102034Z__20140824T102144Z.mseed'. Reason: Minimum distance filtering.\n",
      "[2017-06-04 22:48:35,652] - obspy.clients.fdsn.mass_downloader - INFO: Deleting MiniSEED file '72282711/RAW/BK.BL67.00.BHN__20140824T102034Z__20140824T102144Z.mseed'. Reason: Minimum distance filtering.\n",
      "[2017-06-04 22:48:35,652] - obspy.clients.fdsn.mass_downloader - INFO: Deleting MiniSEED file '72282711/RAW/BK.BL67.00.BHZ__20140824T102034Z__20140824T102144Z.mseed'. Reason: Minimum distance filtering.\n",
      "[2017-06-04 22:48:35,653] - obspy.clients.fdsn.mass_downloader - INFO: Deleting StationXMl file '72282711/_station_xml/BK.BL67.xml'. Reason: Minimum distance filtering.\n",
      "[2017-06-04 22:48:35,654] - obspy.clients.fdsn.mass_downloader - INFO: ============================== Final report\n",
      "[2017-06-04 22:48:35,654] - obspy.clients.fdsn.mass_downloader - INFO: 0 MiniSEED files [0.0 MB] already existed.\n",
      "[2017-06-04 22:48:35,655] - obspy.clients.fdsn.mass_downloader - INFO: 0 StationXML files [0.0 MB] already existed.\n",
      "[2017-06-04 22:48:35,655] - obspy.clients.fdsn.mass_downloader - INFO: Client 'NCEDC' - Acquired 18 MiniSEED files [1.6 MB].\n",
      "[2017-06-04 22:48:35,656] - obspy.clients.fdsn.mass_downloader - INFO: Client 'NCEDC' - Acquired 6 StationXML files [0.1 MB].\n",
      "[2017-06-04 22:48:35,656] - obspy.clients.fdsn.mass_downloader - INFO: Downloaded 1.7 MB in total.\n"
     ]
    }
   ],
   "source": [
    "# Domain restriction for waveform query\n",
    "domain = CircularDomain(latitude=evlat, longitude=evlon,\n",
    "                        minradius=0, maxradius=maxradius)\n",
    "\n",
    "# Restrictions for waveform query\n",
    "restrictions = Restrictions(starttime=origin_time - tbefore,\n",
    "        endtime=origin_time + tafter,\n",
    "        network=net,\n",
    "        reject_channels_with_gaps=False,\n",
    "        channel_priorities=channels)\n",
    "\n",
    "# Use massdownloader\n",
    "mdl = MassDownloader(providers=[data_center])\n",
    "\n",
    "mdl.download(domain, restrictions, mseed_storage=raw_wf_data_dir,\n",
    "             stationxml_storage=sta_metadata_dir)"
   ]
  },
  {
   "cell_type": "code",
   "execution_count": null,
   "metadata": {
    "collapsed": true
   },
   "outputs": [],
   "source": []
  }
 ],
 "metadata": {
  "anaconda-cloud": {},
  "kernelspec": {
   "display_name": "Python 3",
   "language": "python",
   "name": "python3"
  },
  "language_info": {
   "codemirror_mode": {
    "name": "ipython",
    "version": 3
   },
   "file_extension": ".py",
   "mimetype": "text/x-python",
   "name": "python",
   "nbconvert_exporter": "python",
   "pygments_lexer": "ipython3",
   "version": "3.6.2"
  }
 },
 "nbformat": 4,
 "nbformat_minor": 1
}
