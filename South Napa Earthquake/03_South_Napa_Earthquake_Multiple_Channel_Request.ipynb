{
 "cells": [
  {
   "cell_type": "markdown",
   "metadata": {},
   "source": [
    "<div style='background-image: url(\"../share/Aerial_view_LLNL.jpg\") ; padding: 0px ; background-size: cover ; border-radius: 15px ; height: 250px; background-position: 0% 80%'>\n",
    "    <div style=\"float: right ; margin: 50px ; padding: 20px ; background: rgba(255 , 255 , 255 , 0.8) ; width: 50% ; height: 150px\">\n",
    "        <div style=\"position: relative ; top: 50% ; transform: translatey(-50%)\">\n",
    "            <div style=\"font-size: xx-large ; font-weight: 900 ; color: rgba(0 , 0 , 0 , 0.9) ; line-height: 100%\">2014 South Napa Earthquake</div>\n",
    "            <div style=\"font-size: large ; padding-top: 20px ; color: rgba(0 , 0 , 0 , 0.7)\">Multiple Waveforms Request</div>\n",
    "        </div>\n",
    "    </div>\n",
    "</div>"
   ]
  },
  {
   "cell_type": "markdown",
   "metadata": {},
   "source": [
    "### **2017 CIG-LLNL Computational Seismology Workshop**\n",
    "\n",
    "\n",
    "##### Authors:\n",
    "* Artie Rogers\n",
    "* Lion Krischer ([@krischer](https://github.com/krischer))\n",
    "---"
   ]
  },
  {
   "cell_type": "markdown",
   "metadata": {},
   "source": [
    "3) Request waveforms for a single evnet, but from multiple network-channel combinations.\n",
    "\n",
    "If you ran 2) single net-chan request (previous notebook), then you will need to remove event directory \"72282711\"."
   ]
  },
  {
   "cell_type": "code",
   "execution_count": null,
   "metadata": {
    "collapsed": true
   },
   "outputs": [],
   "source": [
    "%matplotlib inline\n",
    "from __future__ import print_function\n",
    "import matplotlib.pyplot as plt\n",
    "plt.style.use('ggplot')\n",
    "plt.rcParams['figure.figsize'] = 12, 8"
   ]
  },
  {
   "cell_type": "code",
   "execution_count": 36,
   "metadata": {
    "collapsed": true
   },
   "outputs": [],
   "source": [
    "from os import path, makedirs\n",
    "from obspy.clients.fdsn import Client\n",
    "from obspy.clients.fdsn.mass_downloader import CircularDomain, Restrictions, MassDownloader"
   ]
  },
  {
   "cell_type": "code",
   "execution_count": 37,
   "metadata": {
    "collapsed": true
   },
   "outputs": [],
   "source": [
    "# Set eventid here\n",
    "event_id = 72282711\n",
    "\n",
    "# Continuous data generally available from these networks\n",
    "netchan_list = ['BK.BH', 'NC.HN', 'NP.HN' ]\n",
    "minimum_length = .95\n",
    "\n",
    "# Note network 'CE' only provides short waveform segments, sometimes only 55 seconds of data)\n",
    "#netchan_list = [ 'CE.HN' ]\n",
    "#minimum_length = 0.2\n",
    "\n",
    "maxradius = 0.5\n",
    "tbefore = 20.\n",
    "tafter = 240.\n",
    "data_center = 'NCEDC'"
   ]
  },
  {
   "cell_type": "markdown",
   "metadata": {},
   "source": [
    "Set client, create event directory (if it does not already exist).\n",
    "Query client to get event information into catalog.\n",
    "Set domain restrictions for waveform query."
   ]
  },
  {
   "cell_type": "code",
   "execution_count": 38,
   "metadata": {},
   "outputs": [
    {
     "name": "stdout",
     "output_type": "stream",
     "text": [
      "make directory 72282711\n",
      "... catalogue saved to 72282711.QUAKEML\n",
      "origin_time:  2014-08-24T10:20:44.070000Z lat, lon:  38.2151667 -122.3123333\n"
     ]
    }
   ],
   "source": [
    "client = Client(data_center)\n",
    "\n",
    "# Create directory for this event, if it does not exist\n",
    "event_dir = str(event_id)\n",
    "if path.exists(event_dir)==False:\n",
    "    print('make directory '+event_dir)\n",
    "    makedirs(event_dir)\n",
    "    raw_wf_data_dir = event_dir+'/RAW/'\n",
    "    makedirs(raw_wf_data_dir)\n",
    "    sta_metadata_dir = event_dir+'/_station_xml/'\n",
    "    makedirs(sta_metadata_dir)\n",
    "else:\n",
    "    print('directory exists')\n",
    "            \n",
    "# Query client for this particular event_id, returns catalog\n",
    "catalog = client.get_events(eventid=event_id)\n",
    "format='QUAKEML'\n",
    "catalog.write(event_dir+'/'+str(event_id)+'.'+format, format=format)\n",
    "print ('... catalogue saved to '+str(event_id)+'.'+format)\n",
    "# Create event origin from the 0-th origin in the catalog\n",
    "ev = catalog[0]\n",
    "origin_time = ev.origins[0]['time']\n",
    "evlon = ev.origins[0]['longitude']\n",
    "evlat = ev.origins[0]['latitude']\n",
    "print('origin_time: ', origin_time, 'lat, lon: ', str(evlat), str(evlon) )\n",
    "\n",
    "# Domain restriction for waveform query\n",
    "domain = CircularDomain(latitude=evlat, longitude=evlon,\n",
    "                            minradius=0, maxradius=maxradius)\n"
   ]
  },
  {
   "cell_type": "markdown",
   "metadata": {},
   "source": [
    "Loop over netchan (network-channel combinations).\n",
    "Run waveform query to return waveforms."
   ]
  },
  {
   "cell_type": "code",
   "execution_count": 39,
   "metadata": {},
   "outputs": [
    {
     "name": "stderr",
     "output_type": "stream",
     "text": [
      "[2017-06-04 23:05:24,034] - obspy.clients.fdsn.mass_downloader - INFO: Initializing FDSN client(s) for NCEDC.\n",
      "[2017-06-04 23:05:24,038] - obspy.clients.fdsn.mass_downloader - INFO: Successfully initialized 1 client(s): NCEDC.\n",
      "[2017-06-04 23:05:24,038] - obspy.clients.fdsn.mass_downloader - INFO: Total acquired or preexisting stations: 0\n",
      "[2017-06-04 23:05:24,039] - obspy.clients.fdsn.mass_downloader - INFO: Client 'NCEDC' - Requesting unreliable availability.\n"
     ]
    },
    {
     "name": "stdout",
     "output_type": "stream",
     "text": [
      "netchan:  BK.BH  net:  BK  chan:  BH  channels:  ['BH[ZNE]']\n"
     ]
    },
    {
     "name": "stderr",
     "output_type": "stream",
     "text": [
      "[2017-06-04 23:05:25,814] - obspy.clients.fdsn.mass_downloader - INFO: Client 'NCEDC' - Successfully requested availability (1.77 seconds)\n",
      "[2017-06-04 23:05:25,856] - obspy.clients.fdsn.mass_downloader - INFO: Client 'NCEDC' - Found 8 stations (24 channels).\n",
      "[2017-06-04 23:05:25,858] - obspy.clients.fdsn.mass_downloader - INFO: Client 'NCEDC' - Will attempt to download data from 8 stations.\n",
      "[2017-06-04 23:05:25,860] - obspy.clients.fdsn.mass_downloader - INFO: Client 'NCEDC' - Status for 24 time intervals/channels before downloading: NEEDS_DOWNLOADING\n",
      "[2017-06-04 23:05:38,636] - obspy.clients.fdsn.mass_downloader - INFO: Client 'NCEDC' - Successfully downloaded 24 channels (of 24)\n",
      "[2017-06-04 23:05:38,637] - obspy.clients.fdsn.mass_downloader - INFO: Client 'NCEDC' - Launching basic QC checks...\n",
      "[2017-06-04 23:05:38,659] - obspy.clients.fdsn.mass_downloader - INFO: File '72282711/RAW/BK.CVS.00.BHE__20140824T102024Z__20140824T102444Z.mseed' has only 197.95 seconds of data. 247.00 are required. File will be deleted.\n",
      "[2017-06-04 23:05:38,664] - obspy.clients.fdsn.mass_downloader - INFO: File '72282711/RAW/BK.CVS.00.BHN__20140824T102024Z__20140824T102444Z.mseed' has only 196.95 seconds of data. 247.00 are required. File will be deleted.\n",
      "[2017-06-04 23:05:38,670] - obspy.clients.fdsn.mass_downloader - INFO: File '72282711/RAW/BK.CVS.00.BHZ__20140824T102024Z__20140824T102444Z.mseed' has only 197.95 seconds of data. 247.00 are required. File will be deleted.\n",
      "[2017-06-04 23:05:38,751] - obspy.clients.fdsn.mass_downloader - INFO: Client 'NCEDC' - Downloaded 6.6 MB [527.57 KB/sec] of data, 0.2 MB of which were discarded afterwards.\n",
      "[2017-06-04 23:05:38,752] - obspy.clients.fdsn.mass_downloader - INFO: Client 'NCEDC' - Status for 3 time intervals/channels after downloading: DOWNLOAD_REJECTED\n",
      "[2017-06-04 23:05:38,752] - obspy.clients.fdsn.mass_downloader - INFO: Client 'NCEDC' - Status for 21 time intervals/channels after downloading: DOWNLOADED\n",
      "[2017-06-04 23:05:45,352] - obspy.clients.fdsn.mass_downloader - INFO: Client 'NCEDC' - Successfully downloaded '72282711/_station_xml/BK.BDM.xml'.\n",
      "[2017-06-04 23:05:45,355] - obspy.clients.fdsn.mass_downloader - INFO: Client 'NCEDC' - Successfully downloaded '72282711/_station_xml/BK.BRIB.xml'.\n",
      "[2017-06-04 23:05:45,357] - obspy.clients.fdsn.mass_downloader - INFO: Client 'NCEDC' - Successfully downloaded '72282711/_station_xml/BK.BRK.xml'.\n",
      "[2017-06-04 23:05:52,323] - obspy.clients.fdsn.mass_downloader - INFO: Client 'NCEDC' - Successfully downloaded '72282711/_station_xml/BK.BL67.xml'.\n",
      "[2017-06-04 23:05:52,325] - obspy.clients.fdsn.mass_downloader - INFO: Client 'NCEDC' - Successfully downloaded '72282711/_station_xml/BK.BKS.xml'.\n",
      "[2017-06-04 23:05:52,345] - obspy.clients.fdsn.mass_downloader - INFO: Client 'NCEDC' - Successfully downloaded '72282711/_station_xml/BK.MCCM.xml'.\n",
      "[2017-06-04 23:05:57,558] - obspy.clients.fdsn.mass_downloader - INFO: Client 'NCEDC' - Successfully downloaded '72282711/_station_xml/BK.VAK.xml'.\n",
      "[2017-06-04 23:05:57,566] - obspy.clients.fdsn.mass_downloader - INFO: Client 'NCEDC' - Downloaded 7 station files [0.1 MB] in 18.8 seconds [7.89 KB/sec].\n",
      "[2017-06-04 23:05:57,568] - obspy.clients.fdsn.mass_downloader - INFO: Deleting MiniSEED file '72282711/RAW/BK.BL67.00.BHE__20140824T102024Z__20140824T102444Z.mseed'. Reason: Minimum distance filtering.\n",
      "[2017-06-04 23:05:57,569] - obspy.clients.fdsn.mass_downloader - INFO: Deleting MiniSEED file '72282711/RAW/BK.BL67.00.BHN__20140824T102024Z__20140824T102444Z.mseed'. Reason: Minimum distance filtering.\n",
      "[2017-06-04 23:05:57,570] - obspy.clients.fdsn.mass_downloader - INFO: Deleting MiniSEED file '72282711/RAW/BK.BL67.00.BHZ__20140824T102024Z__20140824T102444Z.mseed'. Reason: Minimum distance filtering.\n",
      "[2017-06-04 23:05:57,571] - obspy.clients.fdsn.mass_downloader - INFO: Deleting StationXMl file '72282711/_station_xml/BK.BL67.xml'. Reason: Minimum distance filtering.\n",
      "[2017-06-04 23:05:57,571] - obspy.clients.fdsn.mass_downloader - INFO: ============================== Final report\n",
      "[2017-06-04 23:05:57,572] - obspy.clients.fdsn.mass_downloader - INFO: 0 MiniSEED files [0.0 MB] already existed.\n",
      "[2017-06-04 23:05:57,572] - obspy.clients.fdsn.mass_downloader - INFO: 0 StationXML files [0.0 MB] already existed.\n",
      "[2017-06-04 23:05:57,573] - obspy.clients.fdsn.mass_downloader - INFO: Client 'NCEDC' - Acquired 18 MiniSEED files [5.6 MB].\n",
      "[2017-06-04 23:05:57,573] - obspy.clients.fdsn.mass_downloader - INFO: Client 'NCEDC' - Acquired 6 StationXML files [0.1 MB].\n",
      "[2017-06-04 23:05:57,574] - obspy.clients.fdsn.mass_downloader - INFO: Downloaded 5.7 MB in total.\n",
      "[2017-06-04 23:05:57,574] - obspy.clients.fdsn.mass_downloader - INFO: Initializing FDSN client(s) for NCEDC.\n",
      "[2017-06-04 23:05:57,577] - obspy.clients.fdsn.mass_downloader - INFO: Successfully initialized 1 client(s): NCEDC.\n",
      "[2017-06-04 23:05:57,578] - obspy.clients.fdsn.mass_downloader - INFO: Total acquired or preexisting stations: 0\n",
      "[2017-06-04 23:05:57,578] - obspy.clients.fdsn.mass_downloader - INFO: Client 'NCEDC' - Requesting unreliable availability.\n"
     ]
    },
    {
     "name": "stdout",
     "output_type": "stream",
     "text": [
      "netchan:  NC.HN  net:  NC  chan:  HN  channels:  ['HN[ZNE]']\n"
     ]
    },
    {
     "name": "stderr",
     "output_type": "stream",
     "text": [
      "[2017-06-04 23:05:59,297] - obspy.clients.fdsn.mass_downloader - INFO: Client 'NCEDC' - Successfully requested availability (1.72 seconds)\n",
      "[2017-06-04 23:05:59,354] - obspy.clients.fdsn.mass_downloader - INFO: Client 'NCEDC' - Found 29 stations (87 channels).\n",
      "[2017-06-04 23:05:59,356] - obspy.clients.fdsn.mass_downloader - INFO: Client 'NCEDC' - Will attempt to download data from 29 stations.\n",
      "[2017-06-04 23:05:59,360] - obspy.clients.fdsn.mass_downloader - INFO: Client 'NCEDC' - Status for 87 time intervals/channels before downloading: NEEDS_DOWNLOADING\n",
      "[2017-06-04 23:06:05,766] - obspy.clients.fdsn.mass_downloader - INFO: Client 'NCEDC' - Successfully downloaded 37 channels (of 37)\n",
      "[2017-06-04 23:06:08,564] - obspy.clients.fdsn.mass_downloader - INFO: Client 'NCEDC' - Successfully downloaded 50 channels (of 50)\n",
      "[2017-06-04 23:06:08,565] - obspy.clients.fdsn.mass_downloader - INFO: Client 'NCEDC' - Launching basic QC checks...\n",
      "[2017-06-04 23:06:08,680] - obspy.clients.fdsn.mass_downloader - INFO: File '72282711/RAW/NC.NBRB..HNE__20140824T102024Z__20140824T102444Z.mseed' has only 136.99 seconds of data. 247.00 are required. File will be deleted.\n",
      "[2017-06-04 23:06:08,685] - obspy.clients.fdsn.mass_downloader - INFO: File '72282711/RAW/NC.NBRB..HNN__20140824T102024Z__20140824T102444Z.mseed' has only 136.99 seconds of data. 247.00 are required. File will be deleted.\n",
      "[2017-06-04 23:06:08,691] - obspy.clients.fdsn.mass_downloader - INFO: File '72282711/RAW/NC.NBRB..HNZ__20140824T102024Z__20140824T102444Z.mseed' has only 136.99 seconds of data. 247.00 are required. File will be deleted.\n",
      "[2017-06-04 23:06:08,697] - obspy.clients.fdsn.mass_downloader - INFO: File '72282711/RAW/NC.NMI..HNE__20140824T102024Z__20140824T102444Z.mseed' has only 122.99 seconds of data. 247.00 are required. File will be deleted.\n",
      "[2017-06-04 23:06:08,702] - obspy.clients.fdsn.mass_downloader - INFO: File '72282711/RAW/NC.NMI..HNN__20140824T102024Z__20140824T102444Z.mseed' has only 122.99 seconds of data. 247.00 are required. File will be deleted.\n",
      "[2017-06-04 23:06:08,708] - obspy.clients.fdsn.mass_downloader - INFO: File '72282711/RAW/NC.NMI..HNZ__20140824T102024Z__20140824T102444Z.mseed' has only 122.99 seconds of data. 247.00 are required. File will be deleted.\n",
      "[2017-06-04 23:06:08,767] - obspy.clients.fdsn.mass_downloader - INFO: File '72282711/RAW/NC.NHM..HNE__20140824T102024Z__20140824T102444Z.mseed' has only 172.80 seconds of data. 247.00 are required. File will be deleted.\n",
      "[2017-06-04 23:06:08,774] - obspy.clients.fdsn.mass_downloader - INFO: File '72282711/RAW/NC.NHM..HNN__20140824T102024Z__20140824T102444Z.mseed' has only 166.80 seconds of data. 247.00 are required. File will be deleted.\n",
      "[2017-06-04 23:06:08,781] - obspy.clients.fdsn.mass_downloader - INFO: File '72282711/RAW/NC.NHM..HNZ__20140824T102024Z__20140824T102444Z.mseed' has only 167.79 seconds of data. 247.00 are required. File will be deleted.\n",
      "[2017-06-04 23:06:08,824] - obspy.clients.fdsn.mass_downloader - INFO: File '72282711/RAW/NC.NAPC..HNE__20140824T102024Z__20140824T102444Z.mseed' has only 116.50 seconds of data. 247.00 are required. File will be deleted.\n",
      "[2017-06-04 23:06:08,829] - obspy.clients.fdsn.mass_downloader - INFO: File '72282711/RAW/NC.NAPC..HNN__20140824T102024Z__20140824T102444Z.mseed' has only 116.50 seconds of data. 247.00 are required. File will be deleted.\n",
      "[2017-06-04 23:06:08,834] - obspy.clients.fdsn.mass_downloader - INFO: File '72282711/RAW/NC.NAPC..HNZ__20140824T102024Z__20140824T102444Z.mseed' has only 116.50 seconds of data. 247.00 are required. File will be deleted.\n",
      "[2017-06-04 23:06:08,840] - obspy.clients.fdsn.mass_downloader - INFO: File '72282711/RAW/NC.NSP..HNE__20140824T102024Z__20140824T102444Z.mseed' has only 116.99 seconds of data. 247.00 are required. File will be deleted.\n",
      "[2017-06-04 23:06:08,845] - obspy.clients.fdsn.mass_downloader - INFO: File '72282711/RAW/NC.NSP..HNN__20140824T102024Z__20140824T102444Z.mseed' has only 116.99 seconds of data. 247.00 are required. File will be deleted.\n",
      "[2017-06-04 23:06:08,850] - obspy.clients.fdsn.mass_downloader - INFO: File '72282711/RAW/NC.NSP..HNZ__20140824T102024Z__20140824T102444Z.mseed' has only 116.99 seconds of data. 247.00 are required. File will be deleted.\n",
      "[2017-06-04 23:06:08,881] - obspy.clients.fdsn.mass_downloader - INFO: File '72282711/RAW/NC.NTR..HNE__20140824T102024Z__20140824T102444Z.mseed' has only 99.99 seconds of data. 247.00 are required. File will be deleted.\n",
      "[2017-06-04 23:06:08,886] - obspy.clients.fdsn.mass_downloader - INFO: File '72282711/RAW/NC.NTR..HNN__20140824T102024Z__20140824T102444Z.mseed' has only 99.99 seconds of data. 247.00 are required. File will be deleted.\n",
      "[2017-06-04 23:06:08,891] - obspy.clients.fdsn.mass_downloader - INFO: File '72282711/RAW/NC.NTR..HNZ__20140824T102024Z__20140824T102444Z.mseed' has only 99.99 seconds of data. 247.00 are required. File will be deleted.\n",
      "[2017-06-04 23:06:08,971] - obspy.clients.fdsn.mass_downloader - INFO: File '72282711/RAW/NC.CRPB..HNE__20140824T102024Z__20140824T102444Z.mseed' has only 106.99 seconds of data. 247.00 are required. File will be deleted.\n",
      "[2017-06-04 23:06:08,976] - obspy.clients.fdsn.mass_downloader - INFO: File '72282711/RAW/NC.CRPB..HNN__20140824T102024Z__20140824T102444Z.mseed' has only 106.99 seconds of data. 247.00 are required. File will be deleted.\n",
      "[2017-06-04 23:06:08,983] - obspy.clients.fdsn.mass_downloader - INFO: File '72282711/RAW/NC.CRPB..HNZ__20140824T102024Z__20140824T102444Z.mseed' has only 106.99 seconds of data. 247.00 are required. File will be deleted.\n",
      "[2017-06-04 23:06:08,983] - obspy.clients.fdsn.mass_downloader - INFO: Client 'NCEDC' - Downloaded 2.6 MB [294.21 KB/sec] of data, 0.6 MB of which were discarded afterwards.\n",
      "[2017-06-04 23:06:08,984] - obspy.clients.fdsn.mass_downloader - INFO: Client 'NCEDC' - Status for 21 time intervals/channels after downloading: DOWNLOAD_REJECTED\n",
      "[2017-06-04 23:06:08,984] - obspy.clients.fdsn.mass_downloader - INFO: Client 'NCEDC' - Status for 66 time intervals/channels after downloading: DOWNLOADED\n",
      "[2017-06-04 23:06:16,482] - obspy.clients.fdsn.mass_downloader - INFO: Client 'NCEDC' - Successfully downloaded '72282711/_station_xml/NC.NGVB.xml'.\n",
      "[2017-06-04 23:06:16,506] - obspy.clients.fdsn.mass_downloader - INFO: Client 'NCEDC' - Successfully downloaded '72282711/_station_xml/NC.NHC.xml'.\n",
      "[2017-06-04 23:06:16,506] - obspy.clients.fdsn.mass_downloader - INFO: Client 'NCEDC' - Successfully downloaded '72282711/_station_xml/NC.NOLB.xml'.\n",
      "[2017-06-04 23:06:23,278] - obspy.clients.fdsn.mass_downloader - INFO: Client 'NCEDC' - Successfully downloaded '72282711/_station_xml/NC.CSPB.xml'.\n",
      "[2017-06-04 23:06:23,444] - obspy.clients.fdsn.mass_downloader - INFO: Client 'NCEDC' - Successfully downloaded '72282711/_station_xml/NC.NTAC.xml'.\n",
      "[2017-06-04 23:06:23,446] - obspy.clients.fdsn.mass_downloader - INFO: Client 'NCEDC' - Successfully downloaded '72282711/_station_xml/NC.NEH.xml'.\n",
      "[2017-06-04 23:06:28,753] - obspy.clients.fdsn.mass_downloader - INFO: Client 'NCEDC' - Successfully downloaded '72282711/_station_xml/NC.NTO.xml'.\n",
      "[2017-06-04 23:06:30,450] - obspy.clients.fdsn.mass_downloader - INFO: Client 'NCEDC' - Successfully downloaded '72282711/_station_xml/NC.NHF.xml'.\n",
      "[2017-06-04 23:06:30,452] - obspy.clients.fdsn.mass_downloader - INFO: Client 'NCEDC' - Successfully downloaded '72282711/_station_xml/NC.CRH.xml'.\n",
      "[2017-06-04 23:06:34,244] - obspy.clients.fdsn.mass_downloader - INFO: Client 'NCEDC' - Successfully downloaded '72282711/_station_xml/NC.NCC.xml'.\n",
      "[2017-06-04 23:06:36,289] - obspy.clients.fdsn.mass_downloader - INFO: Client 'NCEDC' - Successfully downloaded '72282711/_station_xml/NC.NBO.xml'.\n",
      "[2017-06-04 23:06:36,291] - obspy.clients.fdsn.mass_downloader - INFO: Client 'NCEDC' - Successfully downloaded '72282711/_station_xml/NC.CPI.xml'.\n",
      "[2017-06-04 23:06:46,519] - obspy.clients.fdsn.mass_downloader - INFO: Client 'NCEDC' - Successfully downloaded '72282711/_station_xml/NC.NLH.xml'.\n",
      "[2017-06-04 23:06:48,467] - obspy.clients.fdsn.mass_downloader - INFO: Client 'NCEDC' - Successfully downloaded '72282711/_station_xml/NC.JPR.xml'.\n",
      "[2017-06-04 23:06:48,590] - obspy.clients.fdsn.mass_downloader - INFO: Client 'NCEDC' - Successfully downloaded '72282711/_station_xml/NC.CYB.xml'.\n",
      "[2017-06-04 23:07:11,422] - obspy.clients.fdsn.mass_downloader - INFO: Client 'NCEDC' - Successfully downloaded '72282711/_station_xml/NC.CTA.xml'.\n",
      "[2017-06-04 23:07:11,519] - obspy.clients.fdsn.mass_downloader - INFO: Client 'NCEDC' - Successfully downloaded '72282711/_station_xml/NC.CPM.xml'.\n",
      "[2017-06-04 23:07:18,433] - obspy.clients.fdsn.mass_downloader - INFO: Client 'NCEDC' - Successfully downloaded '72282711/_station_xml/NC.NHV.xml'.\n",
      "[2017-06-04 23:07:18,490] - obspy.clients.fdsn.mass_downloader - INFO: Client 'NCEDC' - Successfully downloaded '72282711/_station_xml/NC.NSM.xml'.\n",
      "[2017-06-04 23:07:24,372] - obspy.clients.fdsn.mass_downloader - INFO: Client 'NCEDC' - Successfully downloaded '72282711/_station_xml/NC.CBR.xml'.\n",
      "[2017-06-04 23:07:24,382] - obspy.clients.fdsn.mass_downloader - INFO: Client 'NCEDC' - Successfully downloaded '72282711/_station_xml/NC.CAG.xml'.\n",
      "[2017-06-04 23:07:24,638] - obspy.clients.fdsn.mass_downloader - INFO: Client 'NCEDC' - Successfully downloaded '72282711/_station_xml/NC.NTYB.xml'.\n",
      "[2017-06-04 23:07:24,680] - obspy.clients.fdsn.mass_downloader - INFO: Client 'NCEDC' - Downloaded 22 station files [1.0 MB] in 75.7 seconds [13.55 KB/sec].\n",
      "[2017-06-04 23:07:24,681] - obspy.clients.fdsn.mass_downloader - INFO: ============================== Final report\n",
      "[2017-06-04 23:07:24,681] - obspy.clients.fdsn.mass_downloader - INFO: 0 MiniSEED files [0.0 MB] already existed.\n",
      "[2017-06-04 23:07:24,682] - obspy.clients.fdsn.mass_downloader - INFO: 0 StationXML files [0.0 MB] already existed.\n",
      "[2017-06-04 23:07:24,683] - obspy.clients.fdsn.mass_downloader - INFO: Client 'NCEDC' - Acquired 66 MiniSEED files [2.1 MB].\n",
      "[2017-06-04 23:07:24,683] - obspy.clients.fdsn.mass_downloader - INFO: Client 'NCEDC' - Acquired 22 StationXML files [1.0 MB].\n",
      "[2017-06-04 23:07:24,684] - obspy.clients.fdsn.mass_downloader - INFO: Downloaded 3.1 MB in total.\n",
      "[2017-06-04 23:07:24,684] - obspy.clients.fdsn.mass_downloader - INFO: Initializing FDSN client(s) for NCEDC.\n",
      "[2017-06-04 23:07:24,687] - obspy.clients.fdsn.mass_downloader - INFO: Successfully initialized 1 client(s): NCEDC.\n",
      "[2017-06-04 23:07:24,687] - obspy.clients.fdsn.mass_downloader - INFO: Total acquired or preexisting stations: 0\n",
      "[2017-06-04 23:07:24,688] - obspy.clients.fdsn.mass_downloader - INFO: Client 'NCEDC' - Requesting unreliable availability.\n"
     ]
    },
    {
     "name": "stdout",
     "output_type": "stream",
     "text": [
      "netchan:  NP.HN  net:  NP  chan:  HN  channels:  ['HN[ZNE]']\n"
     ]
    },
    {
     "name": "stderr",
     "output_type": "stream",
     "text": [
      "[2017-06-04 23:07:30,754] - obspy.clients.fdsn.mass_downloader - INFO: Client 'NCEDC' - Successfully requested availability (6.07 seconds)\n",
      "[2017-06-04 23:07:30,800] - obspy.clients.fdsn.mass_downloader - INFO: Client 'NCEDC' - Found 70 stations (192 channels).\n",
      "[2017-06-04 23:07:30,803] - obspy.clients.fdsn.mass_downloader - INFO: Client 'NCEDC' - Will attempt to download data from 70 stations.\n",
      "[2017-06-04 23:07:30,811] - obspy.clients.fdsn.mass_downloader - INFO: Client 'NCEDC' - Status for 192 time intervals/channels before downloading: NEEDS_DOWNLOADING\n",
      "[2017-06-04 23:07:35,707] - obspy.clients.fdsn.mass_downloader - INFO: Client 'NCEDC' - Successfully downloaded 18 channels (of 50)\n",
      "[2017-06-04 23:07:36,108] - obspy.clients.fdsn.mass_downloader - INFO: Client 'NCEDC' - Successfully downloaded 27 channels (of 50)\n",
      "[2017-06-04 23:07:36,654] - obspy.clients.fdsn.mass_downloader - INFO: Client 'NCEDC' - Successfully downloaded 38 channels (of 50)\n",
      "[2017-06-04 23:07:40,005] - obspy.clients.fdsn.mass_downloader - INFO: Client 'NCEDC' - Successfully downloaded 30 channels (of 42)\n",
      "[2017-06-04 23:07:40,006] - obspy.clients.fdsn.mass_downloader - INFO: Client 'NCEDC' - Launching basic QC checks...\n",
      "[2017-06-04 23:07:40,012] - obspy.clients.fdsn.mass_downloader - INFO: File '72282711/RAW/NP.1814..HNE__20140824T102024Z__20140824T102444Z.mseed' has only 172.93 seconds of data. 247.00 are required. File will be deleted.\n",
      "[2017-06-04 23:07:40,017] - obspy.clients.fdsn.mass_downloader - INFO: File '72282711/RAW/NP.1814..HNN__20140824T102024Z__20140824T102444Z.mseed' has only 172.93 seconds of data. 247.00 are required. File will be deleted.\n",
      "[2017-06-04 23:07:40,026] - obspy.clients.fdsn.mass_downloader - INFO: File '72282711/RAW/NP.1814..HNZ__20140824T102024Z__20140824T102444Z.mseed' has only 172.93 seconds of data. 247.00 are required. File will be deleted.\n",
      "[2017-06-04 23:07:40,064] - obspy.clients.fdsn.mass_downloader - INFO: File '72282711/RAW/NP.1823..HNE__20140824T102024Z__20140824T102444Z.mseed' has only 76.00 seconds of data. 247.00 are required. File will be deleted.\n",
      "[2017-06-04 23:07:40,069] - obspy.clients.fdsn.mass_downloader - INFO: File '72282711/RAW/NP.1823..HNN__20140824T102024Z__20140824T102444Z.mseed' has only 76.00 seconds of data. 247.00 are required. File will be deleted.\n",
      "[2017-06-04 23:07:40,074] - obspy.clients.fdsn.mass_downloader - INFO: File '72282711/RAW/NP.1823..HNZ__20140824T102024Z__20140824T102444Z.mseed' has only 76.00 seconds of data. 247.00 are required. File will be deleted.\n",
      "[2017-06-04 23:07:40,120] - obspy.clients.fdsn.mass_downloader - INFO: File '72282711/RAW/NP.1759..HNE__20140824T102024Z__20140824T102444Z.mseed' has only 74.00 seconds of data. 247.00 are required. File will be deleted.\n",
      "[2017-06-04 23:07:40,126] - obspy.clients.fdsn.mass_downloader - INFO: File '72282711/RAW/NP.1759..HNN__20140824T102024Z__20140824T102444Z.mseed' has only 74.00 seconds of data. 247.00 are required. File will be deleted.\n",
      "[2017-06-04 23:07:40,131] - obspy.clients.fdsn.mass_downloader - INFO: File '72282711/RAW/NP.1759..HNZ__20140824T102024Z__20140824T102444Z.mseed' has only 74.00 seconds of data. 247.00 are required. File will be deleted.\n",
      "[2017-06-04 23:07:40,192] - obspy.clients.fdsn.mass_downloader - INFO: File '72282711/RAW/NP.1760..HNE__20140824T102024Z__20140824T102444Z.mseed' has only 60.99 seconds of data. 247.00 are required. File will be deleted.\n",
      "[2017-06-04 23:07:40,198] - obspy.clients.fdsn.mass_downloader - INFO: File '72282711/RAW/NP.1760..HNN__20140824T102024Z__20140824T102444Z.mseed' has only 60.99 seconds of data. 247.00 are required. File will be deleted.\n",
      "[2017-06-04 23:07:40,246] - obspy.clients.fdsn.mass_downloader - INFO: File '72282711/RAW/NP.1737..HNE__20140824T102024Z__20140824T102444Z.mseed' has only 165.00 seconds of data. 247.00 are required. File will be deleted.\n",
      "[2017-06-04 23:07:40,251] - obspy.clients.fdsn.mass_downloader - INFO: File '72282711/RAW/NP.1737..HNN__20140824T102024Z__20140824T102444Z.mseed' has only 165.00 seconds of data. 247.00 are required. File will be deleted.\n",
      "[2017-06-04 23:07:40,257] - obspy.clients.fdsn.mass_downloader - INFO: File '72282711/RAW/NP.1737..HNZ__20140824T102024Z__20140824T102444Z.mseed' has only 165.00 seconds of data. 247.00 are required. File will be deleted.\n",
      "[2017-06-04 23:07:40,303] - obspy.clients.fdsn.mass_downloader - INFO: File '72282711/RAW/NP.1691..HNE__20140824T102024Z__20140824T102444Z.mseed' has only 79.00 seconds of data. 247.00 are required. File will be deleted.\n",
      "[2017-06-04 23:07:40,308] - obspy.clients.fdsn.mass_downloader - INFO: File '72282711/RAW/NP.1691..HNN__20140824T102024Z__20140824T102444Z.mseed' has only 79.00 seconds of data. 247.00 are required. File will be deleted.\n",
      "[2017-06-04 23:07:40,313] - obspy.clients.fdsn.mass_downloader - INFO: File '72282711/RAW/NP.1691..HNZ__20140824T102024Z__20140824T102444Z.mseed' has only 79.00 seconds of data. 247.00 are required. File will be deleted.\n",
      "[2017-06-04 23:07:40,319] - obspy.clients.fdsn.mass_downloader - INFO: File '72282711/RAW/NP.CES..HNE__20140824T102024Z__20140824T102444Z.mseed' has only 240.93 seconds of data. 247.00 are required. File will be deleted.\n",
      "[2017-06-04 23:07:40,324] - obspy.clients.fdsn.mass_downloader - INFO: File '72282711/RAW/NP.CES..HNN__20140824T102024Z__20140824T102444Z.mseed' has only 240.93 seconds of data. 247.00 are required. File will be deleted.\n",
      "[2017-06-04 23:07:40,329] - obspy.clients.fdsn.mass_downloader - INFO: File '72282711/RAW/NP.CES..HNZ__20140824T102024Z__20140824T102444Z.mseed' has only 240.93 seconds of data. 247.00 are required. File will be deleted.\n",
      "[2017-06-04 23:07:40,347] - obspy.clients.fdsn.mass_downloader - INFO: File '72282711/RAW/NP.1765..HNE__20140824T102024Z__20140824T102444Z.mseed' has only 210.00 seconds of data. 247.00 are required. File will be deleted.\n",
      "[2017-06-04 23:07:40,353] - obspy.clients.fdsn.mass_downloader - INFO: File '72282711/RAW/NP.1765..HNN__20140824T102024Z__20140824T102444Z.mseed' has only 210.00 seconds of data. 247.00 are required. File will be deleted.\n",
      "[2017-06-04 23:07:40,358] - obspy.clients.fdsn.mass_downloader - INFO: File '72282711/RAW/NP.1765..HNZ__20140824T102024Z__20140824T102444Z.mseed' has only 210.00 seconds of data. 247.00 are required. File will be deleted.\n",
      "[2017-06-04 23:07:40,363] - obspy.clients.fdsn.mass_downloader - INFO: File '72282711/RAW/NP.ENM..HNE__20140824T102024Z__20140824T102444Z.mseed' has only 224.93 seconds of data. 247.00 are required. File will be deleted.\n",
      "[2017-06-04 23:07:40,368] - obspy.clients.fdsn.mass_downloader - INFO: File '72282711/RAW/NP.ENM..HNN__20140824T102024Z__20140824T102444Z.mseed' has only 224.93 seconds of data. 247.00 are required. File will be deleted.\n",
      "[2017-06-04 23:07:40,373] - obspy.clients.fdsn.mass_downloader - INFO: File '72282711/RAW/NP.ENM..HNZ__20140824T102024Z__20140824T102444Z.mseed' has only 224.93 seconds of data. 247.00 are required. File will be deleted.\n",
      "[2017-06-04 23:07:40,378] - obspy.clients.fdsn.mass_downloader - INFO: File '72282711/RAW/NP.1743..HNE__20140824T102024Z__20140824T102444Z.mseed' has only 79.00 seconds of data. 247.00 are required. File will be deleted.\n",
      "[2017-06-04 23:07:40,384] - obspy.clients.fdsn.mass_downloader - INFO: File '72282711/RAW/NP.1743..HNN__20140824T102024Z__20140824T102444Z.mseed' has only 79.00 seconds of data. 247.00 are required. File will be deleted.\n",
      "[2017-06-04 23:07:40,389] - obspy.clients.fdsn.mass_downloader - INFO: File '72282711/RAW/NP.1743..HNZ__20140824T102024Z__20140824T102444Z.mseed' has only 79.00 seconds of data. 247.00 are required. File will be deleted.\n",
      "[2017-06-04 23:07:40,473] - obspy.clients.fdsn.mass_downloader - INFO: File '72282711/RAW/NP.1829..HNE__20140824T102024Z__20140824T102444Z.mseed' has only 31.93 seconds of data. 247.00 are required. File will be deleted.\n",
      "[2017-06-04 23:07:40,477] - obspy.clients.fdsn.mass_downloader - INFO: File '72282711/RAW/NP.1829..HNN__20140824T102024Z__20140824T102444Z.mseed' has only 30.93 seconds of data. 247.00 are required. File will be deleted.\n",
      "[2017-06-04 23:07:40,483] - obspy.clients.fdsn.mass_downloader - INFO: File '72282711/RAW/NP.1829..HNZ__20140824T102024Z__20140824T102444Z.mseed' has only 30.93 seconds of data. 247.00 are required. File will be deleted.\n",
      "[2017-06-04 23:07:40,488] - obspy.clients.fdsn.mass_downloader - INFO: File '72282711/RAW/NP.1764..HNE__20140824T102024Z__20140824T102444Z.mseed' has only 77.00 seconds of data. 247.00 are required. File will be deleted.\n",
      "[2017-06-04 23:07:40,493] - obspy.clients.fdsn.mass_downloader - INFO: File '72282711/RAW/NP.1764..HNN__20140824T102024Z__20140824T102444Z.mseed' has only 77.00 seconds of data. 247.00 are required. File will be deleted.\n",
      "[2017-06-04 23:07:40,499] - obspy.clients.fdsn.mass_downloader - INFO: File '72282711/RAW/NP.1764..HNZ__20140824T102024Z__20140824T102444Z.mseed' has only 77.00 seconds of data. 247.00 are required. File will be deleted.\n",
      "[2017-06-04 23:07:40,547] - obspy.clients.fdsn.mass_downloader - INFO: File '72282711/RAW/NP.BOA..HNE__20140824T102024Z__20140824T102444Z.mseed' has only 181.93 seconds of data. 247.00 are required. File will be deleted.\n",
      "[2017-06-04 23:07:40,552] - obspy.clients.fdsn.mass_downloader - INFO: File '72282711/RAW/NP.BOA..HNN__20140824T102024Z__20140824T102444Z.mseed' has only 181.93 seconds of data. 247.00 are required. File will be deleted.\n",
      "[2017-06-04 23:07:40,558] - obspy.clients.fdsn.mass_downloader - INFO: File '72282711/RAW/NP.BOA..HNZ__20140824T102024Z__20140824T102444Z.mseed' has only 181.93 seconds of data. 247.00 are required. File will be deleted.\n",
      "[2017-06-04 23:07:40,559] - obspy.clients.fdsn.mass_downloader - INFO: Client 'NCEDC' - Downloaded 6.0 MB [667.41 KB/sec] of data, 1.4 MB of which were discarded afterwards.\n",
      "[2017-06-04 23:07:40,559] - obspy.clients.fdsn.mass_downloader - INFO: Client 'NCEDC' - Status for 79 time intervals/channels after downloading: DOWNLOAD_FAILED\n",
      "[2017-06-04 23:07:40,560] - obspy.clients.fdsn.mass_downloader - INFO: Client 'NCEDC' - Status for 38 time intervals/channels after downloading: DOWNLOAD_REJECTED\n",
      "[2017-06-04 23:07:40,560] - obspy.clients.fdsn.mass_downloader - INFO: Client 'NCEDC' - Status for 75 time intervals/channels after downloading: DOWNLOADED\n",
      "[2017-06-04 23:07:45,812] - obspy.clients.fdsn.mass_downloader - INFO: Client 'NCEDC' - Successfully downloaded '72282711/_station_xml/NP.1822.xml'.\n",
      "[2017-06-04 23:07:46,047] - obspy.clients.fdsn.mass_downloader - INFO: Client 'NCEDC' - Successfully downloaded '72282711/_station_xml/NP.1820.xml'.\n",
      "[2017-06-04 23:07:46,151] - obspy.clients.fdsn.mass_downloader - INFO: Client 'NCEDC' - Successfully downloaded '72282711/_station_xml/NP.1806.xml'.\n",
      "[2017-06-04 23:07:51,386] - obspy.clients.fdsn.mass_downloader - INFO: Client 'NCEDC' - Successfully downloaded '72282711/_station_xml/NP.1835.xml'.\n",
      "[2017-06-04 23:07:53,421] - obspy.clients.fdsn.mass_downloader - INFO: Client 'NCEDC' - Successfully downloaded '72282711/_station_xml/NP.1756.xml'.\n",
      "[2017-06-04 23:07:53,451] - obspy.clients.fdsn.mass_downloader - INFO: Client 'NCEDC' - Successfully downloaded '72282711/_station_xml/NP.1792.xml'.\n",
      "[2017-06-04 23:07:57,412] - obspy.clients.fdsn.mass_downloader - INFO: Client 'NCEDC' - Successfully downloaded '72282711/_station_xml/NP.1755.xml'.\n",
      "[2017-06-04 23:07:59,490] - obspy.clients.fdsn.mass_downloader - INFO: Client 'NCEDC' - Successfully downloaded '72282711/_station_xml/NP.1813.xml'.\n",
      "[2017-06-04 23:07:59,490] - obspy.clients.fdsn.mass_downloader - INFO: Client 'NCEDC' - Successfully downloaded '72282711/_station_xml/NP.1827.xml'.\n",
      "[2017-06-04 23:08:04,513] - obspy.clients.fdsn.mass_downloader - INFO: Client 'NCEDC' - Successfully downloaded '72282711/_station_xml/NP.1844.xml'.\n",
      "[2017-06-04 23:08:06,560] - obspy.clients.fdsn.mass_downloader - INFO: Client 'NCEDC' - Successfully downloaded '72282711/_station_xml/NP.1846.xml'.\n",
      "[2017-06-04 23:08:06,562] - obspy.clients.fdsn.mass_downloader - INFO: Client 'NCEDC' - Successfully downloaded '72282711/_station_xml/NP.1768.xml'.\n",
      "[2017-06-04 23:08:11,026] - obspy.clients.fdsn.mass_downloader - INFO: Client 'NCEDC' - Successfully downloaded '72282711/_station_xml/NP.1821.xml'.\n",
      "[2017-06-04 23:08:11,923] - obspy.clients.fdsn.mass_downloader - INFO: Client 'NCEDC' - Successfully downloaded '72282711/_station_xml/NP.1773.xml'.\n",
      "[2017-06-04 23:08:12,066] - obspy.clients.fdsn.mass_downloader - INFO: Client 'NCEDC' - Successfully downloaded '72282711/_station_xml/NP.1817.xml'.\n",
      "[2017-06-04 23:08:17,403] - obspy.clients.fdsn.mass_downloader - INFO: Client 'NCEDC' - Successfully downloaded '72282711/_station_xml/NP.1770.xml'.\n",
      "[2017-06-04 23:08:17,514] - obspy.clients.fdsn.mass_downloader - INFO: Client 'NCEDC' - Successfully downloaded '72282711/_station_xml/NP.1771.xml'.\n",
      "[2017-06-04 23:08:17,549] - obspy.clients.fdsn.mass_downloader - INFO: Client 'NCEDC' - Successfully downloaded '72282711/_station_xml/NP.1848.xml'.\n",
      "[2017-06-04 23:08:23,440] - obspy.clients.fdsn.mass_downloader - INFO: Client 'NCEDC' - Successfully downloaded '72282711/_station_xml/NP.1828.xml'.\n",
      "[2017-06-04 23:08:23,564] - obspy.clients.fdsn.mass_downloader - INFO: Client 'NCEDC' - Successfully downloaded '72282711/_station_xml/NP.1816.xml'.\n",
      "[2017-06-04 23:08:23,573] - obspy.clients.fdsn.mass_downloader - INFO: Client 'NCEDC' - Successfully downloaded '72282711/_station_xml/NP.1774.xml'.\n",
      "[2017-06-04 23:08:28,418] - obspy.clients.fdsn.mass_downloader - INFO: Client 'NCEDC' - Successfully downloaded '72282711/_station_xml/NP.1847.xml'.\n",
      "[2017-06-04 23:08:28,540] - obspy.clients.fdsn.mass_downloader - INFO: Client 'NCEDC' - Successfully downloaded '72282711/_station_xml/NP.1819.xml'.\n",
      "[2017-06-04 23:08:36,560] - obspy.clients.fdsn.mass_downloader - INFO: Client 'NCEDC' - Successfully downloaded '72282711/_station_xml/NP.1795.xml'.\n",
      "[2017-06-04 23:08:36,562] - obspy.clients.fdsn.mass_downloader - INFO: Client 'NCEDC' - Successfully downloaded '72282711/_station_xml/NP.1772.xml'.\n",
      "[2017-06-04 23:08:36,602] - obspy.clients.fdsn.mass_downloader - INFO: Client 'NCEDC' - Downloaded 25 station files [1.0 MB] in 56.0 seconds [18.07 KB/sec].\n",
      "[2017-06-04 23:08:36,607] - obspy.clients.fdsn.mass_downloader - INFO: ============================== Final report\n",
      "[2017-06-04 23:08:36,607] - obspy.clients.fdsn.mass_downloader - INFO: 0 MiniSEED files [0.0 MB] already existed.\n",
      "[2017-06-04 23:08:36,607] - obspy.clients.fdsn.mass_downloader - INFO: 0 StationXML files [0.0 MB] already existed.\n",
      "[2017-06-04 23:08:36,609] - obspy.clients.fdsn.mass_downloader - INFO: Client 'NCEDC' - Acquired 75 MiniSEED files [4.6 MB].\n",
      "[2017-06-04 23:08:36,609] - obspy.clients.fdsn.mass_downloader - INFO: Client 'NCEDC' - Acquired 25 StationXML files [1.0 MB].\n",
      "[2017-06-04 23:08:36,610] - obspy.clients.fdsn.mass_downloader - INFO: Downloaded 5.6 MB in total.\n"
     ]
    }
   ],
   "source": [
    "for netchan in netchan_list:\n",
    "    net = netchan.split('.')[0]\n",
    "    chan = netchan.split('.')[1]\n",
    "    channels = [chan+'[ZNE]']\n",
    "    print ('netchan: ', netchan, ' net: ', net, ' chan: ', chan, ' channels: ', channels)\n",
    "    \n",
    "    # Restrictions for waveform query, this time use minimum length restriction\n",
    "    restrictions = Restrictions(starttime=origin_time - tbefore,\n",
    "            endtime=origin_time + tafter,\n",
    "            network=net,\n",
    "            reject_channels_with_gaps=False,\n",
    "            minimum_length=minimum_length,\n",
    "            channel_priorities=channels)\n",
    "    \n",
    "    # Use massdownloader\n",
    "    mdl = MassDownloader(providers=[data_center])\n",
    "    \n",
    "    try:\n",
    "        mdl.download(domain, restrictions, mseed_storage=raw_wf_data_dir,\n",
    "                     stationxml_storage=sta_metadata_dir)\n",
    "    except:\n",
    "        print ('\\n\\n#########     DOWNLOAD ERROR: moving on      ##########\\n\\n')"
   ]
  },
  {
   "cell_type": "markdown",
   "metadata": {},
   "source": [
    "Check in event directory \"72282711\". There should be:\n",
    "    a quakeml file (\"72282711.xml\"); \n",
    "    a \"_station_xml\" direcotry with Station.XML files, named {NET}.{CHAN}.xml; and \n",
    "    a \"RAW\" direcotry with mseed files."
   ]
  },
  {
   "cell_type": "markdown",
   "metadata": {},
   "source": []
  },
  {
   "cell_type": "code",
   "execution_count": null,
   "metadata": {
    "collapsed": true
   },
   "outputs": [],
   "source": []
  },
  {
   "cell_type": "code",
   "execution_count": null,
   "metadata": {
    "collapsed": true
   },
   "outputs": [],
   "source": []
  }
 ],
 "metadata": {
  "anaconda-cloud": {},
  "kernelspec": {
   "display_name": "Python (obspy_py36)",
   "language": "python",
   "name": "obspy_py36"
  },
  "language_info": {
   "codemirror_mode": {
    "name": "ipython",
    "version": 3
   },
   "file_extension": ".py",
   "mimetype": "text/x-python",
   "name": "python",
   "nbconvert_exporter": "python",
   "pygments_lexer": "ipython3",
   "version": "3.6.2"
  }
 },
 "nbformat": 4,
 "nbformat_minor": 1
}
