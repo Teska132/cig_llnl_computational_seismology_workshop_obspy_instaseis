{
 "cells": [
  {
   "cell_type": "markdown",
   "metadata": {},
   "source": [
    "<div style='background-image: url(\"../share/Aerial_view_LLNL.jpg\") ; padding: 0px ; background-size: cover ; border-radius: 15px ; height: 250px; background-position: 0% 80%'>\n",
    "    <div style=\"float: right ; margin: 50px ; padding: 20px ; background: rgba(255 , 255 , 255 , 0.8) ; width: 50% ; height: 150px\">\n",
    "        <div style=\"position: relative ; top: 50% ; transform: translatey(-50%)\">\n",
    "            <div style=\"font-size: xx-large ; font-weight: 900 ; color: rgba(0 , 0 , 0 , 0.9) ; line-height: 100%\">2014 South Napa Earthquake</div>\n",
    "            <div style=\"font-size: large ; padding-top: 20px ; color: rgba(0 , 0 , 0 , 0.7)\">Prepare Waveforms</div>\n",
    "        </div>\n",
    "    </div>\n",
    "</div>"
   ]
  },
  {
   "cell_type": "markdown",
   "metadata": {},
   "source": [
    "### **2017 CIG-LLNL Computational Seismology Workshop**\n",
    "\n",
    "\n",
    "##### Authors:\n",
    "* Artie Rogers\n",
    "* Lion Krischer ([@krischer](https://github.com/krischer))\n",
    "---"
   ]
  },
  {
   "cell_type": "markdown",
   "metadata": {},
   "source": [
    "4) Prepare waveforms\n",
    "\n",
    "Basic algorithm to prepare waveforms obtained from request in previous notebook. Assumes waveforms (miniseed files) were written to directory named with event_id/RAW. This program writes SAC files with physical ground motion units and headers complete with event origin time as reference time, event and station locations, etc... \n",
    "It also rotates the horizontal components, if they both exist."
   ]
  },
  {
   "cell_type": "code",
   "execution_count": null,
   "metadata": {
    "collapsed": true
   },
   "outputs": [],
   "source": [
    "%matplotlib inline\n",
    "from __future__ import print_function\n",
    "import matplotlib.pyplot as plt\n",
    "plt.style.use('ggplot')\n",
    "plt.rcParams['figure.figsize'] = 12, 8"
   ]
  },
  {
   "cell_type": "code",
   "execution_count": null,
   "metadata": {
    "collapsed": true
   },
   "outputs": [],
   "source": [
    "from os import path, chdir, makedirs\n",
    "from sys import exit\n",
    "import obspy"
   ]
  },
  {
   "cell_type": "markdown",
   "metadata": {},
   "source": [
    "Set parameters"
   ]
  },
  {
   "cell_type": "code",
   "execution_count": null,
   "metadata": {
    "collapsed": true
   },
   "outputs": [],
   "source": [
    "# Set eventid here\n",
    "event_id = 72282711\n",
    "\n",
    "pre_filt = (0.03, 0.04, 8.0, 10.0)\n",
    "output_ground_motion = \"VEL\""
   ]
  },
  {
   "cell_type": "markdown",
   "metadata": {},
   "source": [
    "Check if event_id directory exists"
   ]
  },
  {
   "cell_type": "code",
   "execution_count": null,
   "metadata": {
    "collapsed": true
   },
   "outputs": [],
   "source": [
    "event_dir = str(event_id)\n",
    "\n",
    "if path.exists(event_dir) == False:\n",
    "    print('Directory for this event_id does not exist: ', event_dir)\n",
    "    exit()\n",
    "else:\n",
    "    if not path.exists(event_dir+'/'+output_ground_motion):\n",
    "        makedirs(event_dir+'/'+output_ground_motion)\n",
    "    chdir(event_dir)"
   ]
  },
  {
   "cell_type": "markdown",
   "metadata": {},
   "source": [
    "Read quakeml file to get event metadata. Read all mseed files in RAW directory."
   ]
  },
  {
   "cell_type": "code",
   "execution_count": null,
   "metadata": {
    "collapsed": true
   },
   "outputs": [],
   "source": [
    "# Read QuakeML file to get event metadata\n",
    "cat = obspy.read_events(event_dir+'.QUAKEML')\n",
    "event = cat[0]\n",
    "\n",
    "st = obspy.read('RAW/*.mseed')\n",
    "#print(st)\n",
    "#st.plot()"
   ]
  },
  {
   "cell_type": "code",
   "execution_count": null,
   "metadata": {},
   "outputs": [],
   "source": [
    "st.plot()\n"
   ]
  },
  {
   "cell_type": "markdown",
   "metadata": {},
   "source": [
    "Loop over all traces in stream. Remove instrument response using pre-filter window set above.\n",
    "\n",
    "Write SAC file for each trace with header complete with event and station locations, \"0\" reference time as event origin time."
   ]
  },
  {
   "cell_type": "code",
   "execution_count": null,
   "metadata": {},
   "outputs": [],
   "source": [
    "for tr in st:\n",
    "    print('net, sta, chan: ', tr.stats.network, tr.stats.station, tr.stats.channel)\n",
    "    inv = obspy.read_inventory('_station_xml/'+tr.stats.network+'.'+tr.stats.station+'.xml')\n",
    "    tr.remove_response(inventory=inv, pre_filt=pre_filt, output=output_ground_motion, water_level=60)\n",
    "    tr.plot()\n",
    "    \n",
    "    seed_id = tr.stats.network+'.'+tr.stats.station+'.'+tr.stats.location+'.'+tr.stats.channel\n",
    "    coords = inv.get_coordinates(seed_id)\n",
    "    network_inv = inv[0]\n",
    "    sta_inv = network_inv[0]\n",
    "    chan_inv = sta_inv.select(channel=tr.stats.channel)\n",
    "    if tr.stats.channel[-1] == 'Z':\n",
    "        comp = 'z'\n",
    "    if tr.stats.channel[-1] == 'N':\n",
    "        comp = 'n'\n",
    "    if tr.stats.channel[-1] == 'E':\n",
    "        comp = 'e'\n",
    "    \n",
    "    sac = obspy.io.sac.sactrace.SACTrace.from_obspy_trace(tr)\n",
    "    sac.stla = coords['latitude']\n",
    "    sac.stlo = coords['longitude']\n",
    "    sac.stel = coords['elevation']\n",
    "    sac.stdp = coords['local_depth']\n",
    "    sac.cmpaz = chan_inv[0].azimuth\n",
    "    sac.cmpinc = 90.+chan_inv[0].dip\n",
    "    sac.evla = event.origins[0].latitude\n",
    "    sac.evlo = event.origins[0].longitude\n",
    "    sac.evdp = event.origins[0].depth/1000\n",
    "    sac.reftime = event.origins[0].time\n",
    "    sac.o = 0.0\n",
    "    \n",
    "    epi_dist, az, baz = obspy.geodetics.gps2dist_azimuth(sac.evla, sac.evlo, sac.stla, sac.stlo)\n",
    "    print('epi_dist, az, baz', epi_dist, az, baz)\n",
    "    \n",
    "    filename = tr.stats.network+'.'+tr.stats.station+'.'+comp+'.sac'\n",
    "    sac.write(output_ground_motion+'/'+filename)\n"
   ]
  },
  {
   "cell_type": "markdown",
   "metadata": {},
   "source": [
    "Rotate horizontals to yield radial and transverse component SAC files, if both horizontals (north & east) exist."
   ]
  },
  {
   "cell_type": "code",
   "execution_count": null,
   "metadata": {},
   "outputs": [],
   "source": [
    "# Create list of stations\n",
    "net_sta_list = []\n",
    "for tr in st:\n",
    "    print('net.sta: ', tr.stats.network+'.'+tr.stats.station)\n",
    "    net_sta_list.append(tr.stats.network+'.'+tr.stats.station)\n",
    "net_sta_list = sorted(set(net_sta_list))\n",
    "print('net_sta_list: ', net_sta_list)\n",
    "# Loop over stations\n",
    "for net_sta in net_sta_list:\n",
    "    net = net_sta.split('.')[0]\n",
    "    sta = net_sta.split('.')[1]\n",
    "    if path.isfile(output_ground_motion+'/'+net+'.'+sta+'.n.sac') and path.isfile(output_ground_motion+'/'+net+'.'+sta+'.e.sac'):\n",
    "        print('rotate: ', sta)\n",
    "        st = obspy.read(output_ground_motion+'/'+net+'.'+sta+'.[ne].sac')\n",
    "        tr_n = st[0]\n",
    "        tr_e = st[1]\n",
    "        sac_n = obspy.io.sac.sactrace.SACTrace.from_obspy_trace(tr_n)\n",
    "        sac_e = obspy.io.sac.sactrace.SACTrace.from_obspy_trace(tr_e)\n",
    "        baz = tr_n.stats.sac.baz\n",
    "        st.rotate(method='NE->RT', back_azimuth=baz)\n",
    "        tr_r = st[0]\n",
    "        tr_t = st[1]\n",
    "        sac_r = obspy.io.sac.sactrace.SACTrace.from_obspy_trace(tr_r)\n",
    "        sac_t = obspy.io.sac.sactrace.SACTrace.from_obspy_trace(tr_t)\n",
    "        sac_r.cmpaz = baz - 180.\n",
    "        if sac_r.cmpaz < 0.:\n",
    "            sac_r.cmpaz = sac_r.cmpaz + 360.\n",
    "        if sac_r.cmpaz > 360.:\n",
    "            sac_r.cmpaz = sac_r.cmpaz - 360.\n",
    "        sac_t.cmpaz = baz - 270.\n",
    "        if sac_t.cmpaz < 0.:\n",
    "            sac_t.cmpaz = sac_t.cmpaz + 360.\n",
    "        if sac_t.cmpaz > 360.:\n",
    "            sac_t.cmpaz = sac_t.cmpaz - 360.\n",
    "        sac_r.write(output_ground_motion+'/'+net+'.'+sta+'.r.sac')\n",
    "        sac_t.write(output_ground_motion+'/'+net+'.'+sta+'.t.sac')\n",
    "    else:\n",
    "        print('Do not have two horizontals for station: ', sta)"
   ]
  },
  {
   "cell_type": "code",
   "execution_count": null,
   "metadata": {
    "collapsed": true
   },
   "outputs": [],
   "source": []
  }
 ],
 "metadata": {
  "anaconda-cloud": {},
  "kernelspec": {
   "display_name": "Python (obspy_py36)",
   "language": "python",
   "name": "obspy_py36"
  },
  "language_info": {
   "codemirror_mode": {
    "name": "ipython",
    "version": 3
   },
   "file_extension": ".py",
   "mimetype": "text/x-python",
   "name": "python",
   "nbconvert_exporter": "python",
   "pygments_lexer": "ipython3",
   "version": "3.6.2"
  }
 },
 "nbformat": 4,
 "nbformat_minor": 1
}
